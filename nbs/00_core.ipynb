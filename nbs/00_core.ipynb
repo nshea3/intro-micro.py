{
 "cells": [
  {
   "cell_type": "markdown",
   "metadata": {},
   "source": [
    "# core\n",
    "\n",
    "> Fill in a module description here"
   ]
  },
  {
   "cell_type": "code",
   "execution_count": null,
   "metadata": {},
   "outputs": [],
   "source": [
    "#| default_exp core"
   ]
  },
  {
   "cell_type": "code",
   "execution_count": null,
   "metadata": {},
   "outputs": [],
   "source": [
    "#| hide\n",
    "from nbdev.showdoc import *\n",
    "from sympy.parsing.sympy_parser import parse_expr\n",
    "from sympy import diff\n",
    "import sympy\n",
    "# import sympy as sy"
   ]
  },
  {
   "cell_type": "code",
   "execution_count": null,
   "metadata": {},
   "outputs": [],
   "source": []
  },
  {
   "cell_type": "code",
   "execution_count": null,
   "metadata": {},
   "outputs": [],
   "source": [
    "#| export\n",
    "\n",
    "def supply(expr: str):\n",
    "    sf_ = parse_expr(expr)\n",
    "    assert \"Q_s\" in expr\n",
    "    assert diff(sf_) > 0\n",
    "    return sf_\n",
    "\n",
    "\n",
    "def demand(expr: str):\n",
    "    df_= parse_expr(expr)\n",
    "    assert \"Q_d\" in expr\n",
    "    assert diff(df_) < 0\n",
    "    return df_\n",
    "\n",
    "\n",
    "def find_equilibrium(sf, df):\n",
    "    Qstar = sympy.Symbol(\"Q^*\")\n",
    "    df_star_ = df.subs({\"Q_d\":Qstar})\n",
    "    sf_star_ = sf.subs({\"Q_s\":Qstar})\n",
    "    eq = sympy.Eq(sf_star_, df_star_)\n",
    "    return (sympy.solve(eq)[0], \n",
    "            df_star_.subs({Qstar : sympy.solve(eq)[0]}))\n",
    "\n"
   ]
  },
  {
   "cell_type": "code",
   "execution_count": null,
   "metadata": {},
   "outputs": [
    {
     "data": {
      "text/latex": [
       "$\\displaystyle 400.0 - 1.0 Q_{d}$"
      ],
      "text/plain": [
       "400.0 - 1.0*Q_d"
      ]
     },
     "execution_count": null,
     "metadata": {},
     "output_type": "execute_result"
    }
   ],
   "source": [
    "pd = demand(\"-1.0*Q_d + 400.0\")\n",
    "pd"
   ]
  },
  {
   "cell_type": "code",
   "execution_count": null,
   "metadata": {},
   "outputs": [
    {
     "data": {
      "text/latex": [
       "$\\displaystyle Q_{s}$"
      ],
      "text/plain": [
       "Q_s"
      ]
     },
     "execution_count": null,
     "metadata": {},
     "output_type": "execute_result"
    }
   ],
   "source": [
    "ps = supply(\"Q_s\")\n",
    "ps"
   ]
  },
  {
   "cell_type": "code",
   "execution_count": null,
   "metadata": {},
   "outputs": [
    {
     "data": {
      "text/plain": [
       "(200.000000000000, 200.000000000000)"
      ]
     },
     "execution_count": null,
     "metadata": {},
     "output_type": "execute_result"
    }
   ],
   "source": [
    "find_equilibrium(ps, pd)"
   ]
  },
  {
   "cell_type": "code",
   "execution_count": null,
   "metadata": {},
   "outputs": [],
   "source": [
    "#| hide\n",
    "import nbdev; nbdev.nbdev_export()"
   ]
  }
 ],
 "metadata": {
  "kernelspec": {
   "display_name": "Python 3 (ipykernel)",
   "language": "python",
   "name": "python3"
  }
 },
 "nbformat": 4,
 "nbformat_minor": 4
}
